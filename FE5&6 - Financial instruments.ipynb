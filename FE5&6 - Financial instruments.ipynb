{
 "cells": [
  {
   "cell_type": "code",
   "execution_count": 5,
   "id": "2f745521",
   "metadata": {},
   "outputs": [
    {
     "data": {
      "application/javascript": [
       "MathJax.Hub.Config({\n",
       "    TeX: { equationNumbers: { autoNumber: \"AMS\" } }\n",
       "});\n"
      ],
      "text/plain": [
       "<IPython.core.display.Javascript object>"
      ]
     },
     "metadata": {},
     "output_type": "display_data"
    }
   ],
   "source": [
    "%%javascript\n",
    "MathJax.Hub.Config({\n",
    "    TeX: { equationNumbers: { autoNumber: \"AMS\" } }\n",
    "});"
   ]
  },
  {
   "cell_type": "code",
   "execution_count": 1,
   "id": "3443a669",
   "metadata": {},
   "outputs": [
    {
     "data": {
      "application/javascript": [
       "MathJax.Hub.Queue(\n",
       "  [\"resetEquationNumbers\", MathJax.InputJax.TeX],\n",
       "  [\"PreProcess\", MathJax.Hub],\n",
       "  [\"Reprocess\", MathJax.Hub]\n",
       ");\n"
      ],
      "text/plain": [
       "<IPython.core.display.Javascript object>"
      ]
     },
     "metadata": {},
     "output_type": "display_data"
    }
   ],
   "source": [
    "%%javascript\n",
    "MathJax.Hub.Queue(\n",
    "  [\"resetEquationNumbers\", MathJax.InputJax.TeX],\n",
    "  [\"PreProcess\", MathJax.Hub],\n",
    "  [\"Reprocess\", MathJax.Hub]\n",
    ");"
   ]
  },
  {
   "cell_type": "code",
   "execution_count": 3,
   "id": "865eb6fa",
   "metadata": {},
   "outputs": [],
   "source": [
    "from IPython.display import Image\n",
    "from IPython.core.display import HTML "
   ]
  },
  {
   "cell_type": "markdown",
   "id": "61fcd4ff",
   "metadata": {},
   "source": [
    "## A. Simple compounded Forward Rate\n",
    "![title](img/Forward_Cashflow.jpg)"
   ]
  },
  {
   "cell_type": "markdown",
   "id": "67f3ece9",
   "metadata": {},
   "source": [
    "- The value of the simple compounded forward depends on the discounted cash flow at time T1 and T2\n",
    "$$V(t_0) = \\mathbb{E}^\\mathbb{Q} \\left[ \\frac{-1}{M(T_1} + \\frac{1+ K \\times (T2-T1)}{M(T_2} | \\mathbb{F}(t_0) \\right]$$\n",
    "\n",
    "Using the definiton of the zero coupon bond , the above equation can be rewritten as\n",
    "\n",
    "$$V(t_0) = \\left[P(t_0,T_1) + (1+ K  (T2-T1)) P(t_0,T_2)|  \\right] \\label{Forward Value} \\tag{5.1}$$\n",
    "\n",
    "The forward rate $K$ can be deduced from tha above equation as \n",
    "\n",
    "$$ K = \\frac{1}{T_2 - T_1}\\times \\left( \\frac{P(t_0, T_1)}{P(t_0, T_2)} -1 \\right) \\label{Forward_Rate} \\tag{5.2} $$"
   ]
  },
  {
   "cell_type": "markdown",
   "id": "20c3d00c",
   "metadata": {},
   "source": [
    "- typically the forward rate \"K\" is the libor forward rate. Generealising the above equation  with reference rate start date as $T_{k-1}$ and maturity date $T_{k}$ with tenor $\\tau_k = t_{k} - t_{k-1}$, we can write\n",
    "\n",
    "$$\\textit{l}(t; t_{k-1},t_{k})  = \\frac{1}{\\tau_k}\\times \\left( \\frac{P(t, T_{k-1})}{P(t, T_{k})} -1 \\right) \\label{libor_Forward_Rate1} \\tag{5.3} $$\n",
    "\n",
    "- note that when the contract expires , the observation point $t = t_{k-1}$. At this point the liborate rate can be expressed as\n",
    "\n",
    "$\\textit{l}(t_{k-1}; \\; t_{k-1},t_{k})  = \\frac{1}{\\tau_k}\\times \\left( \\frac{P(T_{k-1}, T_{k-1})}{P(T_{k-1}, T_k)} -1 \\right)  $\n",
    "\n",
    "As $P(T_{k-1}, T_{k-1}) = 1$, we can simplify the above as \n",
    "\n",
    "$$\\textit{l}(t_{k-1}; \\; t_{k-1},t_{k})  = \\frac{1}{\\tau_k}\\times \\left( \\frac{1}{P(T_{k-1}, T_k)} -1 \\right)  \\label{libor_Forward_Rate2} \\tag{5.4} $$\n",
    "\n",
    "Alternatively, rearranging the above equation, the zero coupon be can be written as \n",
    "\n",
    "$$P(T_{k-1}, T_k)   = \\frac{1}{1+\\tau_k \\textit{l}(t_{k-1}; \\; t_{k-1},t_{k})}  \\label{ZCB} \\tag{5.5} $$"
   ]
  },
  {
   "cell_type": "markdown",
   "id": "31d0e384",
   "metadata": {},
   "source": [
    "## B. Forward Rate Agreement\n",
    "- the forward rate agreement locks in a term interest rate(say 3m term) at a future time $t_{k-1}$.  The term of the interest rate is from $T_{k-1}$ to $T_{k}$ - which in tis example is 3 months. The forward contract is cash stteled at  $T_{k-1}$ . Its value at  $T_{k-1}$ (a time in the future ) is given by \n",
    "$$V^{FRA}(T_{k-1}) = \\frac{\\tau_k(\\textit{l}(T_{k-1}; T_{k-1}, T_{k}) - K)}{1+\\tau_k(\\textit{l}(T_{k-1}; T_{k-1}, T_{k})}   \\label{FRA1} \\tag{5.6}$$\n",
    "where \n",
    "- $\\tau_k = T_{k} - T_{k-1}$ \n",
    "- Notinal amount is assumed to be 1\n",
    "- $\\textit{l}(T_{k-1}; T_{k-1},T_{k})$ is the libor rate \n",
    "- from the pervious equation $\\ref{ZCB}$, we know that the denominator of $\\ref{FRA1}$ is the definition of a ZCB"
   ]
  },
  {
   "cell_type": "markdown",
   "id": "83fffc0f",
   "metadata": {},
   "source": [
    "we can write the above function in terms of ZCB using it definition in $\\ref{ZCB}$ as \n",
    "\n",
    "$$ V^{FRA}(T_{k-1}) = \\tau_k P(T_{k-1}, T_{k})(\\textit{l}(T_{k-1}; T_{k-1}, T_{k}) - K)$$\n",
    "\n",
    "Note that the above price is at future time $T_{k-1}$. The current price is the expected value of this price under the risk nuetral measure and is given by\n",
    "\n",
    "$$ V^{FRA}(t_0) = \\mathbb{E}^\\mathbb{Q}\\left[ \\frac{1}{M(T_{k-1})}\\times \\tau_k P(T_{k-1}, T_{k})(\\textit{l}(T_{k-1}; T_{k-1}, T_{k})   \\; - \\; K  ) | \\mathbb{F}(t_0)\\right]$$\n"
   ]
  },
  {
   "cell_type": "markdown",
   "id": "6e638e28",
   "metadata": {},
   "source": [
    "substituting the definition of the libor rate given in $\\ref{libor_Forward_Rate2}$, we get\n",
    "\n",
    "$$ V^{FRA}(t_0) = \\mathbb{E}^\\mathbb{Q}\\left[\\frac{1 - P(T_{k-1}, T_{k} )}{M(T_{k-1})} \\; - \\; \\tau_k K \\frac{P(T_{k-1}, T_{k})}{M(T_{k-1})} | \\mathbb{F}(t_0)\\right] $$\n",
    "\n",
    "Now from the Fundamental theorem of asset pricing, any tradeable asset divided by money savings account is a martingale. \n",
    "\n",
    " $$\\mathbb{E}^\\mathbb{Q}\\left[ \\frac{P(T_{k-1}, T_{k})}{M(T_{k-1})} | \\mathbb{F}(t_0) \\right ] =  \\frac{P(t_{0}, T_{k})}{M(t_{0})} $$ where $M(t_{0}) =1$ \n",
    "\n",
    "Applying the FTAP to the pricing equation we get \n",
    "\n",
    "\n",
    "$$ V^{FRA}(t_0) = \\mathbb{E}^\\mathbb{Q}\\left[ \\frac{1}{M(T_{k-1})} | \\mathbb{F}(t_0) \\right ] - P(T_{0}, T_{k} )\\; - \\; \\tau_k K \\frac{P(T_{k-1}, T_{k})}{M(T_{k-1})}  $$\n",
    "\n",
    "We know that $\\mathbb{E}^\\mathbb{Q}\\left[ \\frac{1}{M(T_{k-1})} | \\mathbb{F}(t_0) \\right ] = P(t_0,T_{k-1}) \\label{MM to Bond} \\tag{5.8}$\n",
    "\n",
    "Substituting this , the above equation becomes \n",
    "\n",
    "$$ V^{FRA}(t_0) = P(t_0,T_{k-1}) - P(T_{0}, T_{k} )\\; - \\; \\tau_k K \\frac{P(T_{k-1}, T_{k})}{M(T_{k-1})}  $$\n",
    "\n",
    "using the definition of libor rate in $\\ref{libor_Forward_Rate1}$ we can write this equation as \n",
    "\n",
    "$$ V^{FRA}(t_0) = \\tau_k  P(t_{0}, T_{k})(\\textit{l}(t_0,T_{k-1}, T_k) - K $$\n",
    "\n"
   ]
  },
  {
   "cell_type": "markdown",
   "id": "f7a0f4f5",
   "metadata": {},
   "source": [
    "## c) Floating Rate Note (FRN)\n",
    "- defined in terms of libor rates\n",
    "- FRN is a composed of floating rates occuring at fixed intervals and the notional return at the end. This is similar to a regular bond but with floating coupon rates\n",
    "\n",
    "The cash fow of an FRN is defined as\n",
    "\n",
    "$$V_k^{FRN}(T_k)  = \\begin{cases}\n",
    "                    N \\tau_k \\mathit{l}(T_{k-1}; T_{k-1},T_{k}) \\quad \\forall \\; k \\in \\{1,2, ...m-1\\} \\\\ \\\\\n",
    "                    N \\tau_m \\mathit{l}(T_{m-1}; T_{m-1},T_{m}) + N \\quad  \\text{if m}\n",
    "                    \\end{cases} \\label{FRN_Price1} \\tag{5.9}$$\n",
    "\n",
    "\n",
    "The value of the FRN at time $t_0 $ is the obtained by discounting the above value\n",
    "\n",
    "$$  V_k ^{FRN}(t_0) = \\mathbb{E}^\\mathbb{Q} \\left[ \\frac{1}{M(t_k)} V_k^{FRN}(T_k) \\quad \\Big{|} \\; \\mathcal{F}(t_0)\\right]$$\n",
    "\n",
    "As seen before, we know that $\\mathbb{E}^\\mathbb{Q}\\left[ \\frac{1}{M(T_{k-1})} | \\mathbb{F}(t_0) \\right ] = P(t_0,T_{k-1}) $\n",
    "\n",
    "Hence the above equation can be rewritten as \n",
    "\n",
    "$$  V_k ^{FRN}(t_0) = \\mathbb{E}^\\mathbb{Q} \\left[ \\frac{1}{M(t_k)} V_k^{FRN}(T_k) \\quad \\Big{|} \\; \\mathcal{F}(t_0)\\right] \\label{FRN_Price2} \\tag{5.10}$$\n"
   ]
  },
  {
   "cell_type": "markdown",
   "id": "7006abbe",
   "metadata": {},
   "source": [
    "####  Measure change : risk nuetral to $T_k$ forward measure\n",
    "We aim to change the measure from risk nuetral to to $T_k$ forward measure\n",
    "FO this, first the libor rates are evaluated under the $T_k$ forward measure. Using the definition of the libor rates as given in $\\ref{libor_Forward_Rate2}$,\n",
    "\n",
    "$$\\mathbb{E}^{T_k} \\left[ \\mathcal{l}(T_{k-1}; T_{k-1}, T_{k} ) \\right] = \\frac{1}{\\tau_k }\\mathbb{E}^{T_k} \\left[ \\frac{P(T_{k-1},T_{k-1}) - P(T_{k-1}, T_{k} )}{P(T_{k-1}, T_{k})} \\Big{|} \\mathcal{F}(t)\\right]$$\n",
    "\n",
    "$ \\color{red}{\\text{Note that the measure $T_k$ corresponds to the payment of the libor - so it is a nautral measure.}}$ <br> $ \\color{red}{\\text{ However, if the measure doesnot correspond to the payment date, then a convecity adjustment is required}}$\n",
    "\n",
    "In the above equation , the measure $T_k$corresponds to the numeraire $P(T_{k-1}, T_{k})$, and hence the RHS is a martingale.  Appying the martingale property , it then reduces to\n",
    "\n",
    "\n",
    "$$\\begin{matrix} \\mathbb{E}^{T_k} \\left[ \\mathcal{l}(T_{k-1}; T_{k-1}, T_{k} ) \\right] &=&  \\frac{1}{\\tau_k } \\frac{P(t,T_{k-1}) - P(t, T_{k} )}{P(t, T_{k})} \\\\ \\\\\n",
    "&=& \\mathcal{l}(t;T_{k-1},T_k)\n",
    "\\end{matrix} \\label{libor_under_froward_measure} \\tag{5.12} $$\n",
    "\n",
    "Referring back to $\\ref{FRN_Price1}$, we see that the price of an FRN depends on forward libor rates plus the notional paid at maturity. Since each of the libor rate under its repective forward measure is a maritingale ( as seen in the result above), we can write it now as\n",
    "\n",
    "\n",
    "$$V_k^{FRN}(T_k)  = \\begin{cases}\n",
    "                    N \\tau_k \\mathit{l}(t_{0}; T_{k-1},T_{k}) \\quad \\forall \\; k \\in \\{1,2, ...m-1\\} \\\\ \\\\\n",
    "                    N \\tau_m \\mathit{l}(t_{0}; T_{m-1},T_{m}) + N \\quad  \\text{if m}\n",
    "                    \\end{cases} \\label{FRN_Price1} \\tag{5.13}$$\n",
    "\n"
   ]
  },
  {
   "cell_type": "markdown",
   "id": "e79a5aa7",
   "metadata": {},
   "source": [
    "## d) Interest rate swap\n",
    "\n",
    "- IRS is an extension of FRN. The difference is that IRS has two legs : a floating leg and a fixed leg\n",
    "- swap is by convention named under the fixed rate payer or reciever . a payer IRS is when you pay fixed and recieve a float. The frequency of the cash exchage is defined at inception - say quarterly, half yearly etc.  The floating and fixed cash flows could have different frequencies.\n",
    "\n",
    "$$  $$"
   ]
  },
  {
   "cell_type": "markdown",
   "id": "10b250c7",
   "metadata": {},
   "source": [
    "$$V^{swap}_{m,n}(t_0) =M(t_0) \\mathbb{E}^\\mathbb{Q} \\left[ \\sum_{k=m+1}^n  \\frac{1}{M(T_k)} \\tau_k \\left( \\mathcal{l}(T_{k-1}, T_k) \\; - K \\right) \\; \\Big{|} \\; \\mathcal{F}(t_0)\\right] $$  \n",
    "\n",
    "- Due to the linearity of the expectations, the expecation of the sums can be changed to sums of the expectations\n",
    "\n",
    "#### Measure change from risk nuetral to forward measure\n",
    "- in this approach we first convert the expecation of sums to sum of expecations ( ie applyinf expecation on each payment leg seperately). Then on each of these epectations, we change the measure to the appropriate \"T\" forward measure. Under the corresponding natural forward measure the respective floating rate payment is a martingale and hence the above equation then reduces to the following\n",
    "$$ \\begin{matrix}\n",
    "V^{swap}_{m,n}(t_0) &= \\sum_{k=m+1}^n  P(t_0, T_k) \\tau_k \\left( \\mathbb{E}^\\mathbb{T_k} \\left[\\mathcal{l}(T_{k-1};T_{k-1}, T_k) \\; \\Big{|} \\; \\mathcal{F}(t_0) \\right] \\; - K \\right) \\\\\\\\\n",
    " &=  \\sum_{k=m+1}^n  P(t_0, T_k) \\tau_k \\left( \\mathcal{l}(t_0;T_{k-1}, T_k) \\;  - K \\right)\n",
    "\\end{matrix} \\label{IRS_Price} \\tag{5.14}$$\n",
    "\n",
    "\n",
    "As seen before, the libor rates can be defined using the zero coupon bonds. Applying this to the floating leg part of the above equation, we have\n"
   ]
  },
  {
   "cell_type": "markdown",
   "id": "cdb2df2e",
   "metadata": {},
   "source": [
    "\n",
    "$$\n",
    "\\begin{matrix} \n",
    "  \\sum_{k=m+1}^n  P(t_0,T_k) \\mathcal{l}(t_0,T_{k-1},T_k) &=& \\sum_{k=m+1}^n \\tau_k P(t_0,T_k) \\left[ \\frac{P(t_0,T_{k-1}) -   P(t_0,T_k)}{\\tau_k P(t_0,T_k) }\\right] \\\\\\\\\n",
    "  &=&\\sum_{k=m+1}^n  \\left[ P(t_0,T_{k-1}) -   P(t_0,T_k) \\right]\n",
    "\\end{matrix}\n",
    "$$\n",
    "\n",
    "As the above is a telescopic sum ( the last term gets cancleed out by the first term of the next set), the above can be simplified as \n",
    "\n",
    "$$ \\sum_{k=m+1}^n  P(t_0,T_k) \\mathcal{l}(t_0,T_{k-1},T_k) =  P(t_0,T_{m}) -   P(t_0,T_n) \\label{IRS_Floating_Leg} \\tag{5.15}$$"
   ]
  },
  {
   "cell_type": "markdown",
   "id": "f505253a",
   "metadata": {},
   "source": [
    "Using the above finding, we cn rewrite the swap price as\n",
    "\n",
    "$$\n",
    "V^{swap}_{m,n}(t_0) =   P(t_0,T_m) -   P(t_0,T_n) -  K \\sum_{k=m+1}^n  P(t_0, T_k) \\tau_k  \\label{IRS_Price2} \\tag{5.16}\n",
    "$$  \n",
    "\n",
    "- from the above we conclude that the swap pricing doesnot depend on any model. From the yield curve we get the zero coupon\n",
    "bond and the libor rate can be derived from the zero coupon bonds\n",
    "\n",
    "#### Annuity Factor\n",
    "The annuity factor is the PV of 1 basis point shift, and is defined as\n",
    "\n",
    "$$ A_{m,n}(t) = \\sum_{k=m+1}^n \\tau_k P(t,T_k)$$\n",
    "\n",
    "- Annuity is the sum of tradable assets( zero coupon bonds) and hence it could be used as a numeraire. \n",
    "- hence we can use annuity as a numeriare for pricing IRS as per equation $\\ref{IRS_Price}$. Infact his approach is used in the swaption pricing using the black model ( this is explained in the next section) \n",
    "\n"
   ]
  },
  {
   "cell_type": "markdown",
   "id": "2322a327",
   "metadata": {},
   "source": [
    "#### Finding the K (the swparate) at inception\n",
    "At the beginning, the price of the swap is zero this means that\n",
    "$$P(t_0,T_m) -   P(t_0,T_n) -  K \\sum_{k=m+1}^n  P(t_0, T_k) \\tau_k  = 0 \\\\$$\n",
    "$$\\begin{matrix}\n",
    "K &=& \\frac{P(t_0,T_m) -   P(t_0,T_n)} {\\sum_{k=m+1}^n  P(t_0, T_k) \\tau_k} \\\\\n",
    "&=& \\frac{P(t_0,T_m) -   P(t_0,T_n)} {A_{m,n}(t_0)} \n",
    "\\label{Swap_Rate} \\tag{5.17} \\end{matrix}\n",
    "$$\n"
   ]
  },
  {
   "cell_type": "markdown",
   "id": "7e562300",
   "metadata": {},
   "source": [
    "Now using equation $\\ref{IRS_Price}$ and $\\ref{Swap_Rate}$ we can rewrite the swap price in term of swap rate and annuity \n",
    "\n",
    "$$ V_{m,n}^{swap}(t_0) = A_{m,n}(t_0) (S_{m,n}(t_0) - K) \\label{IRS_Price3} \\tag{5.18} $$"
   ]
  },
  {
   "cell_type": "markdown",
   "id": "b240d343",
   "metadata": {},
   "source": [
    "We have seen earlier in $\\ref{libor_under_froward_measure}$ that libor rate is a martingale under the $T_k$ forward measure.\n",
    "Hence we can write the dynamics of libor rate as\n",
    "\n",
    "$$ d\\mathcal{l}(t) = \\sigma_k \\mathcal{l_k(t) dW^k(t)} \\label{Libor_Dynamics} \\tag{5.19}$$\n",
    "\n",
    "- as the process is a martingale under the T forward measure, it doesnot have a drift component"
   ]
  },
  {
   "cell_type": "code",
   "execution_count": null,
   "id": "46207a5c",
   "metadata": {},
   "outputs": [],
   "source": []
  }
 ],
 "metadata": {
  "kernelspec": {
   "display_name": "Python 3 (ipykernel)",
   "language": "python",
   "name": "python3"
  },
  "language_info": {
   "codemirror_mode": {
    "name": "ipython",
    "version": 3
   },
   "file_extension": ".py",
   "mimetype": "text/x-python",
   "name": "python",
   "nbconvert_exporter": "python",
   "pygments_lexer": "ipython3",
   "version": "3.11.5"
  }
 },
 "nbformat": 4,
 "nbformat_minor": 5
}
